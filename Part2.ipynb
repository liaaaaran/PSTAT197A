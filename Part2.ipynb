{
 "cells": [
  {
   "cell_type": "markdown",
   "metadata": {},
   "source": [
    "# Project Part 2 Solutions"
   ]
  },
  {
   "cell_type": "markdown",
   "metadata": {},
   "source": [
    "## (a)"
   ]
  },
  {
   "cell_type": "code",
   "execution_count": 24,
   "metadata": {},
   "outputs": [],
   "source": [
    "import numpy as np\n",
    "\n",
    "file=np.load(\"part2.npz\")\n",
    "beta_old=file['beta_old'] #4 by 4\n",
    "N=file['N'] #population for each of the 100 nodes\n",
    "Svc_0_PMF=file['Svc_0_PMF'] #respective pmf for each of the 100 nodes\n",
    "Lc=file['Lc'] #len 4 for c categories\n",
    "Ic_0=file['Ic_0'] #100 arrays, each len 4 for c categories\n",
    "gamma=file['gamma']\n",
    "L_observed=file['L_observed'] #100 rows by 120 columns\n",
    "nb_nodes = Svc_0_PMF.shape[0] #100 nodes"
   ]
  },
  {
   "cell_type": "code",
   "execution_count": 55,
   "metadata": {},
   "outputs": [
    {
     "data": {
      "text/plain": [
       "array([25690.53518762, 47859.38607427, 27253.11716814, 32746.25568894,\n",
       "       41231.0823174 , 19921.62153573, 32148.36418544, 44188.37354323,\n",
       "       19366.9070804 , 33069.07044351, 23010.11985273, 25904.39743496,\n",
       "       30271.66626273, 17742.20280212, 38468.00210681, 22340.37658347,\n",
       "       15031.32731702, 31959.72084778, 34947.35993958, 11922.69484435,\n",
       "       21314.95740237, 19915.02534986, 38647.54540135,  8419.88818522,\n",
       "       26831.50408193, 28809.22653908, 51438.94765367, 17878.70555884,\n",
       "       13282.91858219, 46149.77240063, 32628.13686712, 17305.6995897 ,\n",
       "       34912.50482386, 18069.93885566, 33299.30615109, 57166.98653155,\n",
       "       14798.63504815, 14119.95325079, 20352.38639481, 19730.04589222,\n",
       "       37828.46486778, 10653.73857376, 30893.54338394, 11779.67065565,\n",
       "       44239.53346923, 26168.83917189, 21611.47729703, 46475.50025104,\n",
       "       55634.48849551, 12012.23512625, 24645.83887532, 35254.58883737,\n",
       "       40672.40378916, 28083.08985484, 14319.00069391, 21692.91048749,\n",
       "       18901.3842481 , 24781.7257451 , 65618.056699  , 21521.49987699,\n",
       "       17358.62561178, 20885.5469044 , 12737.98638636, 18543.70749453,\n",
       "       16518.38816114, 42620.27822875, 35270.20858253, 19818.99270136,\n",
       "       48355.43480172, 34824.06513159, 47395.28748267, 47843.89469321,\n",
       "       20117.44387979,  9115.44266433, 34057.42747891, 40395.13349889,\n",
       "       20966.58708938, 22209.23261798, 26044.09634573, 23664.12759239,\n",
       "       14611.06047545, 32227.9176243 , 18410.07332163, 17304.47807948,\n",
       "       36085.21371692, 30840.46001194, 21175.83933805, 15064.99664691,\n",
       "       15926.1703463 , 35750.89907132, 27093.93044992,  9377.85622964,\n",
       "       26858.41331785, 36233.59440381, 17332.2674984 , 16624.82847863,\n",
       "       20259.94095174,  8251.64648604, 31537.68507359, 21625.51722921])"
      ]
     },
     "execution_count": 55,
     "metadata": {},
     "output_type": "execute_result"
    }
   ],
   "source": [
    "N"
   ]
  },
  {
   "cell_type": "code",
   "execution_count": 25,
   "metadata": {},
   "outputs": [],
   "source": [
    "def SIR(t, Z, N, betas, gamma):\n",
    "    (S_vec, I_vec, R) = (Z[:16].reshape(4, 4), Z[16:20], Z[-1])\n",
    "    I = I_vec.sum()\n",
    "    dSdt = -betas*S_vec*I/N \n",
    "    dIdt = -dSdt.sum(axis=0)-gamma*I_vec\n",
    "    dRdt = np.array([gamma*I])\n",
    "    return np.concatenate((dSdt.flatten(), dIdt, dRdt))"
   ]
  },
  {
   "cell_type": "code",
   "execution_count": 26,
   "metadata": {},
   "outputs": [],
   "source": [
    "from scipy.integrate import solve_ivp\n",
    "from scipy.optimize import fmin\n",
    "from sklearn.metrics import mean_squared_error\n",
    "\n",
    "Svc_0_PMF /= Svc_0_PMF.sum(axis=(1, 2), keepdims=True)\n",
    "Svc_0 = (N-Ic_0.sum(axis=1))[:, np.newaxis, np.newaxis]*Svc_0_PMF\n",
    "Svc_0 = Svc_0.round().astype(int)\n",
    "R0 = np.zeros((nb_nodes)).astype(int)\n",
    "\n",
    "t = np.linspace(0, 199, 200)\n",
    "\n",
    "S = np.zeros((nb_nodes, 4, 4, len(t)))\n",
    "I = np.zeros((nb_nodes, 4, len(t)))\n",
    "R = np.zeros((nb_nodes, len(t)))\n",
    "L = np.zeros((nb_nodes, len(t)))\n",
    "\n",
    "for N_node, node_index in zip(N, range(nb_nodes)):\n",
    "\n",
    "    initial_conditions = np.concatenate(\n",
    "        (Svc_0[node_index].flatten(), Ic_0[node_index], [R0[node_index]]))\n",
    "\n",
    "    soln = solve_ivp(\n",
    "        SIR, (t[0], t[9]), initial_conditions, args=(N_node, beta_old, gamma), t_eval=t[:10])\n",
    "\n",
    "    S[node_index, :, :, :10] = soln.y[:16].reshape(4, 4, -1)\n",
    "    I[node_index, :, :10] = soln.y[16:20]\n",
    "    R[node_index, :10] = soln.y[20]\n",
    "    L[node_index, :10] = Lc@soln.y[16:20]\n",
    "\n",
    "\n",
    "alpha_predicted = np.zeros((nb_nodes))"
   ]
  },
  {
   "cell_type": "code",
   "execution_count": 39,
   "metadata": {},
   "outputs": [
    {
     "name": "stdout",
     "output_type": "stream",
     "text": [
      "(100, 4, 4, 200)\n",
      "(100, 4, 200)\n",
      "(100, 200)\n"
     ]
    }
   ],
   "source": [
    "print(S.shape) #100 nodes, 4 v, 4 c, 200 days\n",
    "print(I.shape)\n",
    "print(R.shape)"
   ]
  },
  {
   "cell_type": "code",
   "execution_count": 28,
   "metadata": {},
   "outputs": [],
   "source": [
    "def loss_func(alpha):\n",
    "    \n",
    "    ###### WRITE YOUR FUNCTION HERE\n",
    "    mse = 0\n",
    "    \n",
    "    initial_conditions = np.concatenate(\n",
    "        (S[node_index,:,:,9].flatten(), I[node_index,:,9], [R[node_index,9]]))\n",
    "\n",
    "    soln = solve_ivp(\n",
    "        SIR, (t[9], t[30]), initial_conditions, args=(N_node, alpha*beta_old, gamma), t_eval=t[10:30])\n",
    "\n",
    "    S[node_index, :, :, 10:30] = soln.y[:16].reshape(4, 4, -1)\n",
    "    I[node_index, :, 10:30] = soln.y[16:20]\n",
    "    R[node_index, 10:30] = soln.y[20]\n",
    "    L[node_index, 10:30] = Lc@soln.y[16:20]\n",
    "    \n",
    "    mse = mean_squared_error(L_observed[node_index, 10:30], L[node_index, 10:30])\n",
    "\n",
    "    return mse\n",
    "\n",
    "for N_node, node_index in zip(N, range(nb_nodes)):\n",
    "    alpha_predicted[node_index] = fmin(loss_func, 0.5, disp=False)\n"
   ]
  },
  {
   "cell_type": "code",
   "execution_count": 29,
   "metadata": {},
   "outputs": [
    {
     "data": {
      "text/plain": [
       "array([0.23352203, 0.3860054 , 0.22739868, 0.70975342, 0.67788239,\n",
       "       0.20684509, 0.35756836, 0.35657806, 0.37946777, 0.18710937,\n",
       "       0.28283691, 0.3296875 , 0.31420898, 0.2162323 , 0.13437347,\n",
       "       0.24157715, 0.20031738, 0.55296021, 0.58075714, 0.18221436,\n",
       "       0.26948242, 0.30437317, 0.48615723, 0.30966797, 0.33355408,\n",
       "       0.16851807, 0.36960449, 0.21408691, 0.47091064, 0.66049652,\n",
       "       0.29938354, 0.30321045, 0.38393707, 0.17612305, 0.59566956,\n",
       "       0.63847961, 0.39033203, 0.17086182, 0.28800049, 0.86357422,\n",
       "       0.41445465, 0.43756104, 0.42476807, 0.18603516, 0.24894104,\n",
       "       0.43438721, 0.69438477, 0.32382202, 0.24465332, 0.21859131,\n",
       "       0.14959717, 0.2128418 , 0.32988281, 0.26757812, 0.17961426,\n",
       "       0.65092468, 0.19025879, 0.52108459, 0.27169952, 0.55423279,\n",
       "       0.36207275, 0.28662109, 0.3498291 , 0.41787415, 0.25991821,\n",
       "       0.50830688, 0.20330505, 0.41876221, 0.45647888, 0.16158829,\n",
       "       0.16306152, 0.33074341, 0.2930542 , 0.44996338, 0.40922546,\n",
       "       0.2992981 , 0.56278687, 0.64515076, 0.37071838, 0.20419922,\n",
       "       0.33313293, 0.5023941 , 0.69835815, 0.35844421, 0.28005524,\n",
       "       0.30422821, 0.27301636, 0.53604736, 0.95327148, 0.50705566,\n",
       "       0.17155762, 0.35234375, 0.25798035, 0.23042603, 0.44870605,\n",
       "       0.20612793, 0.15996704, 0.92822266, 0.25119629, 0.68381958])"
      ]
     },
     "execution_count": 29,
     "metadata": {},
     "output_type": "execute_result"
    }
   ],
   "source": [
    "alpha_predicted"
   ]
  },
  {
   "cell_type": "markdown",
   "metadata": {},
   "source": [
    "## (b)"
   ]
  },
  {
   "cell_type": "code",
   "execution_count": 66,
   "metadata": {},
   "outputs": [],
   "source": [
    "for i in range(100):  \n",
    "    initial_conditions = np.concatenate(\n",
    "        (S[node_index,:,:,29].flatten(), I[node_index,:,29], [R[node_index,29]]))\n",
    "\n",
    "    soln = solve_ivp(\n",
    "        SIR, (t[29], t[199]), initial_conditions, args=(N_node, alpha_predicted[i]*beta_old, gamma), t_eval=t[30:200])\n",
    "\n",
    "    S[i, :, :, 30:200] = soln.y[:16].reshape(4, 4, -1)\n",
    "    I[i, :, 30:200] = soln.y[16:20]\n",
    "    R[i, 30:200] = soln.y[20]\n",
    "    L[i, 30:200] = Lc@soln.y[16:20]\n",
    "    \n"
   ]
  },
  {
   "cell_type": "code",
   "execution_count": 84,
   "metadata": {},
   "outputs": [],
   "source": [
    "def g(money):\n",
    "    alpha = 1/np.log2(2*10**(-3)*money+2)\n",
    "    return alpha\n",
    "\n",
    "def g_inv(alpha):\n",
    "    money = (2**(1/alpha)-2)/(2*10**(-3))\n",
    "    return money\n",
    "    import matplotlib.pyplot as plt \n",
    "\n",
    "def scatter_plot(alpha_afterNPI):\n",
    "    plt.figure()\n",
    "    colors=(beta_old[np.newaxis,:,:]*Svc_0_PMF).mean(axis=(1,2))\n",
    "    plt.scatter(alpha_predicted, alpha_afterNPI, s=N/500, c=colors, cmap='jet', alpha=0.5)\n",
    "    plt.xlabel(r\"$\\alpha_{own}$\")\n",
    "    plt.ylabel(r\"$\\alpha_{after\\ NPI}$\")\n",
    "\n",
    "def total_recovered_difference(alpha_afterNPI):\n",
    "    \n",
    "    S_after = np.zeros((nb_nodes, 4, 4, len(t)))\n",
    "    I_after = np.zeros((nb_nodes, 4, len(t)))\n",
    "    R_after = np.zeros((nb_nodes, len(t)))\n",
    "    L_after = np.zeros((nb_nodes, len(t)))\n",
    "    \n",
    "    for i in range(100):  \n",
    "        initial_conditions = np.concatenate(\n",
    "            (S[node_index,:,:,29].flatten(), I[node_index,:,29], [R[node_index,29]]))\n",
    "\n",
    "        soln = solve_ivp(\n",
    "            SIR, (t[29], t[199]), initial_conditions, args=(N_node, alpha_afterNPI[i]*beta_old, gamma), t_eval=t[30:200])\n",
    "\n",
    "        S_after[i, :, :, 30:200] = soln.y[:16].reshape(4, 4, -1)\n",
    "        I_after[i, :, 30:200] = soln.y[16:20]\n",
    "        R_after[i, 30:200] = soln.y[20]\n",
    "        L_after[i, 30:200] = Lc@soln.y[16:20]\n",
    "\n",
    "    difference = abs(np.sum(R_after[-1] - R[-1]))\n",
    "    \n",
    "    return difference"
   ]
  },
  {
   "cell_type": "markdown",
   "metadata": {},
   "source": [
    "### Policy #1"
   ]
  },
  {
   "cell_type": "markdown",
   "metadata": {},
   "source": [
    "i. There's a logarithmic relationship between our alpha_predicted values and the alpha_afterNPI values. For alpha_predicted values greater than 0.4, it seems that the values after the intervention doesn't change as much. The rate of growth seems to have to levelled off after this point. "
   ]
  },
  {
   "cell_type": "code",
   "execution_count": 69,
   "metadata": {},
   "outputs": [
    {
     "data": {
      "image/png": "[encoded data removed]",
      "text/plain": [
       "<Figure size 432x288 with 1 Axes>"
      ]
     },
     "metadata": {
      "needs_background": "light"
     },
     "output_type": "display_data"
    }
   ],
   "source": [
    "import matplotlib.pyplot as plt \n",
    "import numpy as np\n",
    "\n",
    "scatter_plot(g(g_inv(alpha_predicted)+10000))"
   ]
  },
  {
   "cell_type": "markdown",
   "metadata": {},
   "source": [
    "ii. The change in "
   ]
  },
  {
   "cell_type": "code",
   "execution_count": 90,
   "metadata": {},
   "outputs": [
    {
     "name": "stdout",
     "output_type": "stream",
     "text": [
      "2714267.352274217\n"
     ]
    }
   ],
   "source": [
    "print(np.sum(N))"
   ]
  },
  {
   "cell_type": "code",
   "execution_count": 88,
   "metadata": {},
   "outputs": [
    {
     "name": "stdout",
     "output_type": "stream",
     "text": [
      "2110966.909126956\n"
     ]
    }
   ],
   "source": [
    "print(np.sum(R[:,-1]))"
   ]
  },
  {
   "cell_type": "code",
   "execution_count": 85,
   "metadata": {},
   "outputs": [
    {
     "data": {
      "text/plain": [
       "224789.18754681802"
      ]
     },
     "execution_count": 85,
     "metadata": {},
     "output_type": "execute_result"
    }
   ],
   "source": [
    "total_recovered_difference(g(g_inv(alpha_predicted)+10000))"
   ]
  },
  {
   "cell_type": "markdown",
   "metadata": {},
   "source": [
    "### Policy #2"
   ]
  },
  {
   "cell_type": "markdown",
   "metadata": {},
   "source": [
    "i. "
   ]
  },
  {
   "cell_type": "code",
   "execution_count": 91,
   "metadata": {},
   "outputs": [],
   "source": [
    "z= np.zeros(100)\n",
    "for i in range(100):\n",
    "    z[i] = N[i]/np.sum(N) * 1000000"
   ]
  },
  {
   "cell_type": "code",
   "execution_count": null,
   "metadata": {},
   "outputs": [],
   "source": [
    "alpha_afterNPI2 = np.zeros(100)\n",
    "for"
   ]
  },
  {
   "cell_type": "code",
   "execution_count": null,
   "metadata": {},
   "outputs": [],
   "source": [
    "\n",
    "scatter_plot()"
   ]
  },
  {
   "cell_type": "markdown",
   "metadata": {},
   "source": [
    "ii."
   ]
  },
  {
   "cell_type": "code",
   "execution_count": null,
   "metadata": {},
   "outputs": [],
   "source": [
    "total_recovered_difference()"
   ]
  },
  {
   "cell_type": "markdown",
   "metadata": {},
   "source": [
    "### Policy #3"
   ]
  },
  {
   "cell_type": "markdown",
   "metadata": {},
   "source": [
    "i."
   ]
  },
  {
   "cell_type": "markdown",
   "metadata": {},
   "source": [
    "ii."
   ]
  },
  {
   "cell_type": "markdown",
   "metadata": {},
   "source": [
    "### Policy #4"
   ]
  },
  {
   "cell_type": "markdown",
   "metadata": {},
   "source": [
    "i."
   ]
  },
  {
   "cell_type": "markdown",
   "metadata": {},
   "source": [
    "ii."
   ]
  },
  {
   "cell_type": "markdown",
   "metadata": {},
   "source": [
    "## (c)"
   ]
  },
  {
   "cell_type": "markdown",
   "metadata": {},
   "source": [
    "### Policy 1"
   ]
  },
  {
   "cell_type": "markdown",
   "metadata": {},
   "source": [
    "### Policy 2"
   ]
  },
  {
   "cell_type": "markdown",
   "metadata": {},
   "source": [
    "### Policy 3"
   ]
  },
  {
   "cell_type": "markdown",
   "metadata": {},
   "source": [
    "### Policy 4"
   ]
  }
 ],
 "metadata": {
  "kernelspec": {
   "display_name": "Python 3",
   "language": "python",
   "name": "python3"
  },
  "language_info": {
   "codemirror_mode": {
    "name": "ipython",
    "version": 3
   },
   "file_extension": ".py",
   "mimetype": "text/x-python",
   "name": "python",
   "nbconvert_exporter": "python",
   "pygments_lexer": "ipython3",
   "version": "3.7.6"
  }
 },
 "nbformat": 4,
 "nbformat_minor": 2
}
